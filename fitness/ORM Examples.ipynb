{
 "cells": [
  {
   "cell_type": "code",
   "execution_count": 1,
   "id": "f019dd24",
   "metadata": {},
   "outputs": [],
   "source": [
    "from training import models"
   ]
  },
  {
   "cell_type": "code",
   "execution_count": 2,
   "id": "27a81768",
   "metadata": {
    "scrolled": true
   },
   "outputs": [],
   "source": [
    "qs = models.Training.objects.all()"
   ]
  },
  {
   "cell_type": "code",
   "execution_count": 3,
   "id": "dd8dacc0",
   "metadata": {},
   "outputs": [
    {
     "name": "stdout",
     "output_type": "stream",
     "text": [
      "SELECT \"training_training\".\"id\", \"training_training\".\"profile_id\", \"training_training\".\"training_type_id\", \"training_training\".\"action\", \"training_training\".\"started_at\", \"training_training\".\"finished_at\" FROM \"training_training\" ORDER BY \"training_training\".\"finished_at\" DESC, \"training_training\".\"started_at\" DESC\n"
     ]
    }
   ],
   "source": [
    "print(qs.query)"
   ]
  },
  {
   "cell_type": "code",
   "execution_count": null,
   "id": "8280aaa1",
   "metadata": {},
   "outputs": [],
   "source": []
  }
 ],
 "metadata": {
  "kernelspec": {
   "display_name": "Django Shell-Plus",
   "language": "python",
   "name": "django_extensions"
  },
  "language_info": {
   "codemirror_mode": {
    "name": "ipython",
    "version": 3
   },
   "file_extension": ".py",
   "mimetype": "text/x-python",
   "name": "python",
   "nbconvert_exporter": "python",
   "pygments_lexer": "ipython3",
   "version": "3.8.13"
  }
 },
 "nbformat": 4,
 "nbformat_minor": 5
}
