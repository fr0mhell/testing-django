{
 "cells": [
  {
   "cell_type": "markdown",
   "id": "a03239b1",
   "metadata": {},
   "source": [
    "## [Prefetch_related](https://docs.djangoproject.com/en/4.1/ref/models/querysets/#prefetch-related)"
   ]
  },
  {
   "cell_type": "markdown",
   "id": "e29a3cc1",
   "metadata": {},
   "source": [
    "![](https://coffeebytes.dev/diferencias-entre-select_related-y-prefetch_related-en-django/images/prefetch_related.png)"
   ]
  },
  {
   "cell_type": "code",
   "execution_count": 1,
   "id": "f019dd24",
   "metadata": {},
   "outputs": [],
   "source": [
    "from training import models"
   ]
  },
  {
   "cell_type": "code",
   "execution_count": 11,
   "id": "d471e62e",
   "metadata": {},
   "outputs": [],
   "source": [
    "def no_prefetch_related():\n",
    "    tt = models.TrainingType.objects.all()\n",
    "\n",
    "    with open('./report_no_prefetch_related.txt', 'w') as f:\n",
    "        for ttype in tt:\n",
    "            f.write(f'{ttype}\\n')\n",
    "\n",
    "            for traning in ttype.trainings.all()[:3]:\n",
    "                f.write(f'\\t - {traning} by {traning.profile}\\n')"
   ]
  },
  {
   "cell_type": "code",
   "execution_count": null,
   "id": "8981ce20",
   "metadata": {},
   "outputs": [],
   "source": [
    "def prefetch_related_tranings():\n",
    "    tt = models.TrainingType.objects.all().prefetch_related('trainings')\n",
    "\n",
    "    with open('./prefetch_related_tranings.txt', 'w') as f:\n",
    "        for ttype in tt:\n",
    "            f.write(f'{ttype}\\n')\n",
    "\n",
    "            for traning in ttype.trainings.all()[:3]:\n",
    "                f.write(f'\\t - {traning} by {traning.profile}\\n')"
   ]
  },
  {
   "cell_type": "code",
   "execution_count": null,
   "id": "39c554d2",
   "metadata": {},
   "outputs": [],
   "source": [
    "def prefetch_related_tranings_profile():\n",
    "    tt = models.TrainingType.objects.all().prefetch_related(\n",
    "        'trainings',\n",
    "        'trainings__profile',\n",
    "    )\n",
    "\n",
    "    with open('./prefetch_related_tranings_profile.txt', 'w') as f:\n",
    "        for ttype in tt:\n",
    "            f.write(f'{ttype}\\n')\n",
    "\n",
    "            for traning in ttype.trainings.all()[:3]:\n",
    "                f.write(f'\\t - {traning} by {traning.profile}\\n')"
   ]
  },
  {
   "cell_type": "code",
   "execution_count": null,
   "id": "855143fd",
   "metadata": {},
   "outputs": [],
   "source": [
    "def prefetch_related_tranings_profile_user():\n",
    "    tt = models.TrainingType.objects.all().prefetch_related(\n",
    "        'trainings',\n",
    "        'trainings__profile',\n",
    "        'trainings__profile__user',\n",
    "    )\n",
    "\n",
    "    with open('./prefetch_related_tranings_profile_user.txt', 'w') as f:\n",
    "        for ttype in tt:\n",
    "            f.write(f'{ttype}\\n')\n",
    "\n",
    "            for traning in ttype.trainings.all()[:3]:\n",
    "                f.write(f'\\t - {traning} by {traning.profile}\\n')"
   ]
  },
  {
   "cell_type": "markdown",
   "id": "a66d788d",
   "metadata": {},
   "source": [
    "## [select_related](https://docs.djangoproject.com/en/4.1/ref/models/querysets/#select-related)"
   ]
  },
  {
   "cell_type": "markdown",
   "id": "26f9cb6b",
   "metadata": {},
   "source": [
    "![](https://coffeebytes.dev/diferencias-entre-select_related-y-prefetch_related-en-django/images/select_related.png)"
   ]
  },
  {
   "cell_type": "code",
   "execution_count": null,
   "id": "d27f3940",
   "metadata": {},
   "outputs": [],
   "source": [
    "def no_select_related():\n",
    "\n",
    "    with open('./no_select_related.txt', 'w') as f:\n",
    "        qs = models.Training.objects.all()[:3]\n",
    "        for traning in qs:\n",
    "            f.write(f'\\t - {traning} by {traning.profile}\\n')"
   ]
  },
  {
   "cell_type": "code",
   "execution_count": null,
   "id": "ae0134c7",
   "metadata": {},
   "outputs": [],
   "source": [
    "def select_profile():\n",
    "\n",
    "    with open('./select_profile.txt', 'w') as f:\n",
    "        qs = models.Training.objects.all().select_related('profile')[:3]\n",
    "        for traning in qs:\n",
    "            f.write(f'\\t - {traning} by {traning.profile}\\n')"
   ]
  },
  {
   "cell_type": "code",
   "execution_count": null,
   "id": "c762731d",
   "metadata": {},
   "outputs": [],
   "source": [
    "def select_profile_user():\n",
    "\n",
    "    with open('./select_profile_user.txt', 'w') as f:\n",
    "        qs = models.Training.objects.all().select_related(\n",
    "            'profile',\n",
    "            'profile__user',\n",
    "        )[:3]\n",
    "        for traning in qs:\n",
    "            f.write(f'\\t - {traning} by {traning.profile}\\n')"
   ]
  },
  {
   "cell_type": "code",
   "execution_count": null,
   "id": "bc8be1d5",
   "metadata": {},
   "outputs": [],
   "source": [
    "def select_profile_user_training_type():\n",
    "\n",
    "    with open('./select_profile_user_training_type.txt', 'w') as f:\n",
    "        qs = models.Training.objects.all().select_related(\n",
    "            'profile',\n",
    "            'profile__user',\n",
    "            'training_type',\n",
    "        )[:3]\n",
    "        for traning in qs:\n",
    "            f.write(f'\\t - {traning} by {traning.profile}\\n')"
   ]
  }
 ],
 "metadata": {
  "kernelspec": {
   "display_name": "Django Shell-Plus",
   "language": "python",
   "name": "django_extensions"
  },
  "language_info": {
   "codemirror_mode": {
    "name": "ipython",
    "version": 3
   },
   "file_extension": ".py",
   "mimetype": "text/x-python",
   "name": "python",
   "nbconvert_exporter": "python",
   "pygments_lexer": "ipython3",
   "version": "3.8.13"
  }
 },
 "nbformat": 4,
 "nbformat_minor": 5
}
